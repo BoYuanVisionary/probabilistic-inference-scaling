{
 "cells": [
  {
   "cell_type": "code",
   "execution_count": 1,
   "metadata": {},
   "outputs": [
    {
     "name": "stderr",
     "output_type": "stream",
     "text": [
      "/ssdscratch/byuan48/software/anaconda3/envs/PF/lib/python3.12/site-packages/tqdm/auto.py:21: TqdmWarning: IProgress not found. Please update jupyter and ipywidgets. See https://ipywidgets.readthedocs.io/en/stable/user_install.html\n",
      "  from .autonotebook import tqdm as notebook_tqdm\n"
     ]
    }
   ],
   "source": [
    "from glob import glob\n",
    "\n",
    "from datasets import load_dataset\n",
    "from sal.utils.math import *\n",
    "from sal.utils.grader import *\n",
    "\n",
    "from sal.utils.qwen_math_parser import *\n",
    "from sal.utils.data import get_dataset, save_dataset\n",
    "from collections import defaultdict\n",
    "import json\n",
    "import numpy as np\n",
    "import pickle\n",
    "from sal.config import Config\n",
    "\n",
    "import os"
   ]
  },
  {
   "cell_type": "code",
   "execution_count": 2,
   "metadata": {},
   "outputs": [],
   "source": [
    "config = Config()\n",
    "config.datset_name = \"/ssdscratch/byuan48/particle_filtering/probabilistic-inference-scaling/datasets/math500.jsonl\"\n",
    "config.dataset_split = \"train\"\n",
    "gt = get_dataset(config)\n"
   ]
  },
  {
   "cell_type": "code",
   "execution_count": 3,
   "metadata": {},
   "outputs": [],
   "source": [
    "def is_correct(sample, key):\n",
    "    ans = memoized_canonical_form(sample['answer'])\n",
    "    pred = memoized_canonical_form(sample[f'pred_{key}']).strip(\"\\\\boxed{\").strip(\"}\")\n",
    "\n",
    "    sample['is_correct_' + key] = math_equal(ans, pred)\n",
    "    return sample\n",
    "\n",
    "\n",
    "def parse_responses(sample):\n",
    "    sample['parsed_responses'] = [strip_string(extract_answer(x, 'math')) for x in sample['completions']]\n",
    "    return sample\n",
    "\n",
    "\n",
    "def extract(string):\n",
    "    return strip_string(extract_answer(string, 'math'))"
   ]
  },
  {
   "cell_type": "code",
   "execution_count": 4,
   "metadata": {},
   "outputs": [
    {
     "name": "stdout",
     "output_type": "stream",
     "text": [
      "file:  ./output/p2/seed2/test_algebra_1072.pkl\n"
     ]
    },
    {
     "name": "stderr",
     "output_type": "stream",
     "text": [
      "2025-04-22 14:51:26,665\tINFO util.py:154 -- Missing packages: ['ipywidgets']. Run `pip install -U ipywidgets`, then restart the notebook server for rich notebook output.\n"
     ]
    },
    {
     "name": "stdout",
     "output_type": "stream",
     "text": [
      "file:  ./output/p2/seed2/test_prealgebra_930.pkl\n",
      "file:  ./output/p2/seed2/test_algebra_2036.pkl\n",
      "file:  ./output/p2/seed2/test_intermediate_algebra_232.pkl\n",
      "file:  ./output/p2/seed2/test_prealgebra_505.pkl\n",
      "file:  ./output/p2/seed2/test_algebra_1098.pkl\n",
      "file:  ./output/p2/seed2/test_geometry_434.pkl\n",
      "file:  ./output/p2/seed2/test_number_theory_516.pkl\n",
      "file:  ./output/p2/seed2/test_intermediate_algebra_207.pkl\n",
      "file:  ./output/p2/seed2/test_algebra_1035.pkl\n",
      "file:  ./output/p2/seed2/test_precalculus_779.pkl\n",
      "file:  ./output/p2/seed2/test_intermediate_algebra_1408.pkl\n",
      "file:  ./output/p2/seed2/test_prealgebra_1302.pkl\n",
      "file:  ./output/p2/seed2/test_number_theory_847.pkl\n",
      "file:  ./output/p2/seed2/test_geometry_178.pkl\n",
      "file:  ./output/p2/seed2/test_algebra_722.pkl\n",
      "file:  ./output/p2/seed2/test_counting_and_probability_134.pkl\n",
      "file:  ./output/p2/seed2/test_algebra_2700.pkl\n",
      "file:  ./output/p2/seed2/test_geometry_1140.pkl\n",
      "file:  ./output/p2/seed2/test_counting_and_probability_159.pkl\n",
      "file:  ./output/p2/seed2/test_algebra_1265.pkl\n",
      "file:  ./output/p2/seed2/test_intermediate_algebra_431.pkl\n",
      "file:  ./output/p2/seed2/test_intermediate_algebra_515.pkl\n",
      "file:  ./output/p2/seed2/test_precalculus_927.pkl\n",
      "file:  ./output/p2/seed2/test_algebra_2253.pkl\n",
      "file:  ./output/p2/seed2/test_algebra_972.pkl\n",
      "file:  ./output/p2/seed2/test_number_theory_572.pkl\n",
      "file:  ./output/p2/seed2/test_geometry_353.pkl\n",
      "file:  ./output/p2/seed2/test_algebra_1837.pkl\n",
      "file:  ./output/p2/seed2/test_number_theory_864.pkl\n",
      "file:  ./output/p2/seed2/test_precalculus_1313.pkl\n",
      "file:  ./output/p2/seed2/test_intermediate_algebra_134.pkl\n",
      "file:  ./output/p2/seed2/test_algebra_2214.pkl\n",
      "file:  ./output/p2/seed2/test_geometry_183.pkl\n",
      "file:  ./output/p2/seed2/test_counting_and_probability_119.pkl\n",
      "file:  ./output/p2/seed2/test_prealgebra_1747.pkl\n",
      "file:  ./output/p2/seed2/test_counting_and_probability_666.pkl\n",
      "file:  ./output/p2/seed2/test_precalculus_34.pkl\n",
      "file:  ./output/p2/seed2/test_prealgebra_1558.pkl\n",
      "file:  ./output/p2/seed2/test_prealgebra_1139.pkl\n",
      "file:  ./output/p2/seed2/test_prealgebra_1646.pkl\n",
      "file:  ./output/p2/seed2/test_prealgebra_1807.pkl\n",
      "file:  ./output/p2/seed2/test_intermediate_algebra_2022.pkl\n",
      "file:  ./output/p2/seed2/test_intermediate_algebra_428.pkl\n",
      "file:  ./output/p2/seed2/test_prealgebra_1924.pkl\n",
      "file:  ./output/p2/seed2/test_precalculus_1105.pkl\n",
      "file:  ./output/p2/seed2/test_precalculus_1303.pkl\n",
      "file:  ./output/p2/seed2/test_intermediate_algebra_1898.pkl\n",
      "file:  ./output/p2/seed2/test_intermediate_algebra_1849.pkl\n",
      "file:  ./output/p2/seed2/test_geometry_283.pkl\n",
      "file:  ./output/p2/seed2/test_intermediate_algebra_47.pkl\n",
      "file:  ./output/p2/seed2/test_counting_and_probability_430.pkl\n",
      "file:  ./output/p2/seed2/test_algebra_305.pkl\n",
      "file:  ./output/p2/seed2/test_algebra_988.pkl\n",
      "file:  ./output/p2/seed2/test_algebra_873.pkl\n",
      "file:  ./output/p2/seed2/test_intermediate_algebra_362.pkl\n",
      "file:  ./output/p2/seed2/test_prealgebra_1840.pkl\n",
      "file:  ./output/p2/seed2/test_prealgebra_1733.pkl\n",
      "file:  ./output/p2/seed2/test_prealgebra_307.pkl\n",
      "file:  ./output/p2/seed2/test_intermediate_algebra_582.pkl\n",
      "file:  ./output/p2/seed2/test_intermediate_algebra_1168.pkl\n",
      "file:  ./output/p2/seed2/test_number_theory_46.pkl\n",
      "file:  ./output/p2/seed2/test_intermediate_algebra_1126.pkl\n",
      "file:  ./output/p2/seed2/test_precalculus_24313.pkl\n",
      "file:  ./output/p2/seed2/test_algebra_1332.pkl\n",
      "file:  ./output/p2/seed2/test_number_theory_1055.pkl\n",
      "file:  ./output/p2/seed2/test_prealgebra_1686.pkl\n",
      "file:  ./output/p2/seed2/test_algebra_1349.pkl\n",
      "file:  ./output/p2/seed2/test_intermediate_algebra_2046.pkl\n",
      "file:  ./output/p2/seed2/test_intermediate_algebra_966.pkl\n",
      "file:  ./output/p2/seed2/test_prealgebra_1622.pkl\n",
      "file:  ./output/p2/seed2/test_algebra_2193.pkl\n",
      "file:  ./output/p2/seed2/test_geometry_456.pkl\n",
      "file:  ./output/p2/seed2/test_precalculus_477.pkl\n",
      "file:  ./output/p2/seed2/test_intermediate_algebra_894.pkl\n",
      "file:  ./output/p2/seed2/test_precalculus_675.pkl\n",
      "file:  ./output/p2/seed2/test_algebra_187.pkl\n",
      "file:  ./output/p2/seed2/test_algebra_246.pkl\n",
      "file:  ./output/p2/seed2/test_prealgebra_951.pkl\n",
      "file:  ./output/p2/seed2/test_number_theory_1257.pkl\n",
      "file:  ./output/p2/seed2/test_number_theory_45.pkl\n",
      "file:  ./output/p2/seed2/test_number_theory_627.pkl\n",
      "file:  ./output/p2/seed2/test_number_theory_156.pkl\n",
      "file:  ./output/p2/seed2/test_algebra_2584.pkl\n",
      "file:  ./output/p2/seed2/test_number_theory_357.pkl\n",
      "file:  ./output/p2/seed2/test_precalculus_285.pkl\n",
      "file:  ./output/p2/seed2/test_number_theory_612.pkl\n",
      "file:  ./output/p2/seed2/test_intermediate_algebra_607.pkl\n",
      "file:  ./output/p2/seed2/test_prealgebra_105.pkl\n",
      "file:  ./output/p2/seed2/test_intermediate_algebra_1247.pkl\n",
      "file:  ./output/p2/seed2/test_intermediate_algebra_345.pkl\n",
      "file:  ./output/p2/seed2/test_prealgebra_1247.pkl\n",
      "file:  ./output/p2/seed2/test_algebra_2251.pkl\n",
      "file:  ./output/p2/seed2/test_prealgebra_572.pkl\n",
      "file:  ./output/p2/seed2/test_algebra_2157.pkl\n",
      "file:  ./output/p2/seed2/test_number_theory_914.pkl\n",
      "file:  ./output/p2/seed2/test_algebra_24.pkl\n",
      "file:  ./output/p2/seed2/test_number_theory_1032.pkl\n",
      "file:  ./output/p2/seed2/test_algebra_893.pkl\n",
      "file:  ./output/p2/seed2/test_intermediate_algebra_1197.pkl\n",
      "file:  ./output/p2/seed2/test_counting_and_probability_377.pkl\n",
      "file:  ./output/p2/seed2/test_intermediate_algebra_279.pkl\n",
      "file:  ./output/p2/seed2/test_counting_and_probability_525.pkl\n",
      "file:  ./output/p2/seed2/test_precalculus_990.pkl\n",
      "file:  ./output/p2/seed2/test_geometry_967.pkl\n",
      "file:  ./output/p2/seed2/test_algebra_2232.pkl\n",
      "file:  ./output/p2/seed2/test_prealgebra_1761.pkl\n",
      "file:  ./output/p2/seed2/test_prealgebra_1804.pkl\n",
      "file:  ./output/p2/seed2/test_precalculus_1199.pkl\n",
      "file:  ./output/p2/seed2/test_precalculus_1300.pkl\n",
      "file:  ./output/p2/seed2/test_intermediate_algebra_623.pkl\n",
      "file:  ./output/p2/seed2/test_algebra_2046.pkl\n",
      "file:  ./output/p2/seed2/test_algebra_2427.pkl\n",
      "file:  ./output/p2/seed2/test_algebra_769.pkl\n",
      "file:  ./output/p2/seed2/test_precalculus_1146.pkl\n",
      "file:  ./output/p2/seed2/test_counting_and_probability_1060.pkl\n",
      "file:  ./output/p2/seed2/test_intermediate_algebra_1151.pkl\n",
      "file:  ./output/p2/seed2/test_prealgebra_1297.pkl\n",
      "file:  ./output/p2/seed2/test_intermediate_algebra_1994.pkl\n",
      "file:  ./output/p2/seed2/test_precalculus_807.pkl\n",
      "file:  ./output/p2/seed2/test_number_theory_737.pkl\n",
      "file:  ./output/p2/seed2/test_counting_and_probability_1114.pkl\n",
      "file:  ./output/p2/seed2/test_algebra_661.pkl\n",
      "file:  ./output/p2/seed2/test_prealgebra_1233.pkl\n",
      "file:  ./output/p2/seed2/test_intermediate_algebra_1000.pkl\n",
      "file:  ./output/p2/seed2/test_algebra_1519.pkl\n",
      "file:  ./output/p2/seed2/test_algebra_2058.pkl\n",
      "file:  ./output/p2/seed2/test_geometry_627.pkl\n",
      "file:  ./output/p2/seed2/test_prealgebra_1388.pkl\n",
      "file:  ./output/p2/seed2/test_intermediate_algebra_1388.pkl\n",
      "file:  ./output/p2/seed2/test_prealgebra_192.pkl\n",
      "file:  ./output/p2/seed2/test_counting_and_probability_23957.pkl\n",
      "file:  ./output/p2/seed2/test_algebra_2023.pkl\n",
      "file:  ./output/p2/seed2/test_intermediate_algebra_1454.pkl\n",
      "file:  ./output/p2/seed2/test_intermediate_algebra_956.pkl\n",
      "file:  ./output/p2/seed2/test_intermediate_algebra_558.pkl\n",
      "file:  ./output/p2/seed2/test_geometry_248.pkl\n",
      "file:  ./output/p2/seed2/test_intermediate_algebra_128.pkl\n",
      "file:  ./output/p2/seed2/test_intermediate_algebra_1217.pkl\n",
      "file:  ./output/p2/seed2/test_algebra_1004.pkl\n",
      "file:  ./output/p2/seed2/test_intermediate_algebra_662.pkl\n",
      "file:  ./output/p2/seed2/test_precalculus_43.pkl\n",
      "file:  ./output/p2/seed2/test_precalculus_44.pkl\n",
      "file:  ./output/p2/seed2/test_number_theory_515.pkl\n",
      "file:  ./output/p2/seed2/test_algebra_567.pkl\n",
      "file:  ./output/p2/seed2/test_algebra_2593.pkl\n",
      "file:  ./output/p2/seed2/test_intermediate_algebra_1063.pkl\n",
      "file:  ./output/p2/seed2/test_algebra_892.pkl\n",
      "file:  ./output/p2/seed2/test_number_theory_753.pkl\n"
     ]
    }
   ],
   "source": [
    "files = glob('./output/p2/seed2/*.pkl')\n",
    "\n",
    "data = {}\n",
    "for file in files:\n",
    "    with open(file, 'rb') as f:\n",
    "        if file.split('/')[-1].startswith('batch'):\n",
    "                continue\n",
    "                \n",
    "        # if not os.path.exists('/shiv/search-and-learn/llama1b_jan11_mathShephard_vs_deepSeek_PRM_comparison/seed96/temp_1/p128/' + file.split('/')[-1]):\n",
    "        #         continue\n",
    "        print(\"file: \", file)\n",
    "        data[f\"{file.split('/')[-1].replace('.pkl', '.json')}\"] = pickle.load(f)"
   ]
  },
  {
   "cell_type": "code",
   "execution_count": 5,
   "metadata": {},
   "outputs": [
    {
     "name": "stderr",
     "output_type": "stream",
     "text": [
      "Filter: 100%|██████████| 500/500 [00:00<00:00, 53278.59 examples/s]\n"
     ]
    }
   ],
   "source": [
    "unique_ids = list(data.keys())\n",
    "gt = gt.map(lambda x: {'unique_id': x['unique_id'].replace('/', '_')})\n",
    "gt = gt.filter(lambda x: x['unique_id'] in unique_ids)"
   ]
  },
  {
   "cell_type": "code",
   "execution_count": 6,
   "metadata": {},
   "outputs": [
    {
     "data": {
      "text/plain": [
       "149"
      ]
     },
     "execution_count": 6,
     "metadata": {},
     "output_type": "execute_result"
    }
   ],
   "source": [
    "len(set(unique_ids))"
   ]
  },
  {
   "cell_type": "code",
   "execution_count": 7,
   "metadata": {},
   "outputs": [
    {
     "data": {
      "text/plain": [
       "Dataset({\n",
       "    features: ['problem', 'solution', 'answer', 'subject', 'level', 'unique_id'],\n",
       "    num_rows: 149\n",
       "})"
      ]
     },
     "execution_count": 7,
     "metadata": {},
     "output_type": "execute_result"
    }
   ],
   "source": [
    "gt"
   ]
  },
  {
   "cell_type": "code",
   "execution_count": 8,
   "metadata": {},
   "outputs": [],
   "source": [
    "def get_pg_response(sample, pg_data):\n",
    "    pg_sample = pg_data[sample['unique_id']]\n",
    "    # Track accuracy at each state\n",
    "    state_accuracies = []\n",
    "    state_answers = []\n",
    "    assert len(pg_sample) == 1 \n",
    "    for state in pg_sample:\n",
    "        rewards = [x.rewards[-1] for x in state]\n",
    "        all_rewards = [x.rewards for x in state]\n",
    "        # tokens_num = np.array([sum(x.tokens_num) for x in state]).sum()\n",
    "        best_particle = state[np.argmax(rewards)]\n",
    "\n",
    "\n",
    "        # logits = [inverse_sigmoid(r) for r in rewards]\n",
    "        # logits = np.array(logits)\n",
    "        # weights = softmax(logits/.5)\n",
    "        # best_particle = np.random.choice(state, p=weights)\n",
    "        trajectory = \"\\n\\n\".join(best_particle.trajectory)\n",
    "        answer = extract(trajectory)\n",
    "        is_correct = math_equal(memoized_canonical_form(sample['answer']), memoized_canonical_form(answer))\n",
    "        state_accuracies.append(is_correct)\n",
    "        state_answers.append(answer)\n",
    "    \n",
    "    trajectories = []\n",
    "    for state in pg_sample:\n",
    "        for x in state:\n",
    "            trajectories.append(\"\\n\\n\".join(x.trajectory))\n",
    "    \n",
    "    # Still store the final prediction and accuracy\n",
    "    # last_state = pg_sample[-1]\n",
    "    # rewards = [x.rewards[-1] for x in last_state]\n",
    "    # best_particle = last_state[np.argmax(rewards)]\n",
    "    # trajectory = \"\\n\\n\".join(best_particle.trajectory)\n",
    "    # answer = extract(trajectory)\n",
    "    # sample['pred_pg'] = answer\n",
    "    sample['is_correct_pg_states'] = state_accuracies\n",
    "    sample['preds'] = state_answers\n",
    "    # sample['tokens_num'] = tokens_num\n",
    "    sample['is_correct'] = any(state_accuracies)\n",
    "    sample['trajectories'] = trajectories\n",
    "    sample['rewards'] = rewards\n",
    "    sample['all_rewards'] = all_rewards\n",
    "    \n",
    "\n",
    "    return sample\n"
   ]
  },
  {
   "cell_type": "code",
   "execution_count": 9,
   "metadata": {},
   "outputs": [
    {
     "name": "stderr",
     "output_type": "stream",
     "text": [
      "Parameter 'function'=<function get_pg_response at 0x7fd8440cf420> of the transform datasets.arrow_dataset.Dataset._map_single couldn't be hashed properly, a random hash was used instead. Make sure your transforms and parameters are serializable with pickle or dill for the dataset fingerprinting and caching to work. If you reuse this transform, the caching mechanism will consider it to be different from the previous calls and recompute everything. This warning is only showed once. Subsequent hashing failures won't be showed.\n",
      "WARNING:datasets.fingerprint:Parameter 'function'=<function get_pg_response at 0x7fd8440cf420> of the transform datasets.arrow_dataset.Dataset._map_single couldn't be hashed properly, a random hash was used instead. Make sure your transforms and parameters are serializable with pickle or dill for the dataset fingerprinting and caching to work. If you reuse this transform, the caching mechanism will consider it to be different from the previous calls and recompute everything. This warning is only showed once. Subsequent hashing failures won't be showed.\n",
      "Map: 100%|██████████| 149/149 [00:02<00:00, 70.34 examples/s]\n"
     ]
    }
   ],
   "source": [
    "gt = gt.map(get_pg_response, fn_kwargs={'pg_data': data})"
   ]
  },
  {
   "cell_type": "code",
   "execution_count": 10,
   "metadata": {},
   "outputs": [
    {
     "name": "stdout",
     "output_type": "stream",
     "text": [
      "State 0: 0.376 accuracy (56 correct)\n"
     ]
    }
   ],
   "source": [
    "#num_states_to_test = 2  # Based on seeing 7 states in the data from context\n",
    "for i in range(len(gt[0]['is_correct_pg_states'])):\n",
    "    correct_at_state = [d['is_correct_pg_states'][i] for d in gt]\n",
    "    # tokens_num = [d['tokens_num'] for d in gt]\n",
    "    print(f\"State {i}: {np.mean(correct_at_state):.3f} accuracy ({sum(correct_at_state)} correct)\")\n",
    "    # print(f\"State {i}: {np.mean(tokens_num):.3f} tokens\") # Represents the number of tokens in tokens_num\n",
    "\n"
   ]
  },
  {
   "cell_type": "code",
   "execution_count": 11,
   "metadata": {},
   "outputs": [
    {
     "data": {
      "text/plain": [
       "{'problem': 'What is the least positive integer multiple of 30 that can be written with only the digits 0 and 2?',\n",
       " 'solution': \"Let $M$ be the least positive multiple of 30 that can be written with only the digits 0 and 2. First, $M$ is a multiple of 10, so its units digit must be 0. $M$ is also a multiple of 3, which means the sum of its digits must be a multiple of 3. Therefore, we must take at least  three 2's. Since $M$ is minimal, we take exactly three 2's and do not have any additional 0's: $M=\\\\boxed{2220}$.\",\n",
       " 'answer': '2220',\n",
       " 'subject': 'Number Theory',\n",
       " 'level': 3,\n",
       " 'unique_id': 'test_number_theory_1032.json',\n",
       " 'is_correct_pg_states': [False],\n",
       " 'preds': ['2020'],\n",
       " 'is_correct': False,\n",
       " 'trajectories': [\"## Step 1: Determine the possible digits\\nWe need to find the least positive integer multiple of 30 that can be written using only the digits 0 and 2.\\n\\n## Step 2: Analyze the divisibility rules for 2 and 3\\nSince 2 and 30 are both even numbers, the number must be even. To be an even number, it must end in 0 or 2. To be a multiple of 3, the sum of its digits must be a multiple of 3.\\n\\n## Step 3: Try out different combinations of digits\\nGiven that the number must be even, we start by trying the combinations that end in 0 or 2. We can then check if the sum of these digits is a multiple of 3.\\n\\n## Step 4: Check for the smallest possible number\\nStart with the smallest possible combination for the first digit, which is 0. However, it would result in 0 itself, which is not a positive multiple of 30.\\n\\n## Step 5: Identify a possible multiple\\nTrying 20, we find that 200 is not a multiple of 3 because 2+0+0 = 2, which is not a multiple of 3.\\n\\n## Step 6: Try a larger combination\\nLet's try using the next possible combination of digits, which is 2 for the first digit.\\n\\n## Step 7: Check the sum for divisibility by 3\\nUsing 220, 2+2+0 = 4, which is not a multiple of 3.\\n\\n## Step 8: Continue checking combinations\\nNext, using the combination 2 for the units place, we get 220. 2+2+0 = 4, which is still not a multiple of 3.\\n\\n## Step 9: Continue checking combinations\\nUsing the combination 2 for the hundreds place, we get 220. 2+2+0 = 4, which is not a multiple of 3.\\n\\n## Step 10: Check the tens digit\\nLet's try using 0 for the tens place. We have 20 and 220. 2+0+0 = 2, which is not a multiple of 3.\\n\\n## Step 11: End with the correct combination\\nUsing 0 for the hundreds and tens place results in the number 220. However, 220 is not the correct answer because we are told the number can use only 0 and 2. Thus, we need to try a different combination.\\n\\n## Step 12: Analyze the next possible combination\\nWe need to examine the combination that ends in 20.\\n\\n## Step 13: Check for the sum of digits being a multiple of 3\\nFor the combination 202, 2+0+2 = 4, which is not a multiple of 3.\\n\\n## Step 14: Continue checking combinations\\nUsing the combination 202, 2+0+2 = 4, which is not a multiple of 3.\\n\\n## Step 15: Analyze another combination\\nUsing the last possible combination for the hundreds place is not valid since we need the number to be greater than 20.\\n\\n## Step 16: Analyze the next valid combination\\nThe next valid combination would be the thousands place.\\n\\n## Step 17: Find the first valid combination.\\nSince we need a multiple of 30, we need to try different combinations of digits.\\n\\n## Step 18: Start with a different combination\\nConsider starting with the smallest possible hundreds digit, which is 2.\\n\\n## Step 19: Analyze combinations\\nWe have 202, 220, 2202. However, these are not a valid combination because they do not consist only of the digits 0 and 2.\\n\\n## Step 20: Continue trying\\nLet's try using 2 as the first digit, but using 202, 220 are the only possible options, and neither of these is valid since we can't have a number with a 2 as the first digit and not 0.\\n\\n## Step 21: Try the next combination.\\nWe need to try a lower number.\\n\\n## Step 22: Find a valid option\\nLet's look for a combination that starts with a 2 and ends in 20. The valid options would be 2200, 2202, 2200, and 2202. However, these contain the digit 2, so they are not valid.\\n\\n## Step 23: Identify the correct solution\\nSince 2200 is a valid valid option. But, upon checking again and going to the lower option that starts with 0, 2020 is the correct number.\\n\\n## Step 24: Use this number.\\nThe least positive integer multiple of 30 that can be written with only the digits 0 and 2 is 2020.\\n\\nThe final answer is: $\\\\boxed{2020}$\",\n",
       "  \"## Step 1: Determine the possible digits\\nWe need to find the least positive integer multiple of 30 that can be written using only the digits 0 and 2.\\n\\n## Step 2: Analyze the divisibility rules for 2 and 3\\nSince 2 and 30 are both even numbers, the number must be even. To be an even number, it must end in 0 or 2. To be a multiple of 3, the sum of its digits must be a multiple of 3.\\n\\n## Step 3: Try out different combinations of digits\\nGiven that the number must be even, we start by trying the combinations that end in 0 or 2. We can then check if the sum of these digits is a multiple of 3.\\n\\n## Step 4: Check for the smallest possible number\\nStart with the smallest possible combination for the first digit, which is 0. However, it would result in 0 itself, which is not a positive multiple of 30.\\n\\n## Step 5: Identify a possible multiple\\nTrying 20, we find that 200 is not a multiple of 3 because 2+0+0 = 2, which is not a multiple of 3.\\n\\n## Step 6: Try a larger combination\\nLet's try using the next possible combination of digits, which is 2 for the first digit.\\n\\n## Step 7: Check the sum for divisibility by 3\\nUsing 220, 2+2+0 = 4, which is not a multiple of 3.\\n\\n## Step 8: Continue checking combinations\\nNext, using the combination 2 for the units place, we get 220. 2+2+0 = 4, which is still not a multiple of 3.\\n\\n## Step 9: Continue checking combinations\\nUsing the combination 2 for the hundreds place, we get 220. 2+2+0 = 4, which is not a multiple of 3.\\n\\n## Step 10: Check the tens digit\\nLet's try using 0 for the tens place. We have 20 and 220. 2+0+0 = 2, which is not a multiple of 3.\\n\\n## Step 11: End with the correct combination\\nUsing 0 for the hundreds and tens place results in the number 220. However, 220 is not the correct answer because we are told the number can use only 0 and 2. Thus, we need to try a different combination.\\n\\n## Step 12: Analyze the next possible combination\\nWe need to examine the combination that ends in 20.\\n\\n## Step 13: Check for the sum of digits being a multiple of 3\\nFor the combination 202, 2+0+2 = 4, which is not a multiple of 3.\\n\\n## Step 14: Continue checking combinations\\nUsing the combination 202, 2+0+2 = 4, which is not a multiple of 3.\\n\\n## Step 15: Analyze another combination\\nUsing the last possible combination for the hundreds place is not valid since we need the number to be greater than 20.\\n\\n## Step 16: Analyze the next valid combination\\nThe next valid combination would be the thousands place.\\n\\n## Step 17: Find the first valid combination.\\nSince we need a multiple of 30, we need to try different combinations of digits.\\n\\n## Step 18: Start with a different combination\\nConsider starting with the smallest possible hundreds digit, which is 2.\\n\\n## Step 19: Analyze combinations\\nWe have 202, 220, 2202. However, these are not a valid combination because they do not consist only of the digits 0 and 2.\\n\\n## Step 20: Continue trying\\nLet's try using 2 as the first digit, but using 202, 220 are the only possible options, and neither of these is valid since we can't have a number with a 2 as the first digit and not 0.\\n\\n## Step 21: Try the next combination.\\nWe need to try a lower number.\\n\\n## Step 22: Find a valid option\\nLet's look for a combination that starts with a 2 and ends in 20. The valid options would be 2200, 2202, 2200, and 2202. However, these contain the digit 2, so they are not valid.\\n\\n## Step 23: Identify the correct solution\\nSince 2200 is a valid valid option. But, upon checking again and going to the lower option that starts with 0, 2020 is the correct number.\\n\\n## Step 24: 2020 is not a valid option, but 202 and 2202 are not the smallest options and the valid combinations are 220 and 2020.\\n\\n## Step 25:  Let's correct the mistake and try a lower option. \\nThe combination 2020 will not be valid because 2020 is not only a multiple of 30, but it also doesn't consist of only the digits 0 and 2.\\n\\n## Step 26: Find the smallest valid options\\nWe must try a lower number. Let's start with 202 and try lower valid options.\\n\\n## Step 27:  Analyze the last possible combination.\\nThere are many options for a valid number, we must search for the smallest valid option.\\n\\n## Step 28:  Let's try the smallest valid option and see if it works.\\nThe possible options are 2020, 2200 is not valid since it's not a multiple of 3, 2220 is not valid.\\n\\n## Step 29: Identify the correct option.\\nBy examining each combination from least to greatest, the smallest valid option is 2020.\"],\n",
       " 'rewards': [0.0047607421875, 0.00927734375],\n",
       " 'all_rewards': [[1.0,\n",
       "   0.65234375,\n",
       "   0.80859375,\n",
       "   0.578125,\n",
       "   0.314453125,\n",
       "   0.734375,\n",
       "   0.80859375,\n",
       "   0.26171875,\n",
       "   0.158203125,\n",
       "   0.1376953125,\n",
       "   0.03564453125,\n",
       "   0.11181640625,\n",
       "   0.099609375,\n",
       "   0.08349609375,\n",
       "   0.061767578125,\n",
       "   0.07373046875,\n",
       "   0.07373046875,\n",
       "   0.078125,\n",
       "   0.0302734375,\n",
       "   0.02978515625,\n",
       "   0.03369140625,\n",
       "   0.0172119140625,\n",
       "   0.010986328125,\n",
       "   0.00347900390625,\n",
       "   0.0047607421875],\n",
       "  [1.0,\n",
       "   0.65234375,\n",
       "   0.80859375,\n",
       "   0.578125,\n",
       "   0.314453125,\n",
       "   0.734375,\n",
       "   0.80859375,\n",
       "   0.26171875,\n",
       "   0.158203125,\n",
       "   0.1376953125,\n",
       "   0.03564453125,\n",
       "   0.11181640625,\n",
       "   0.099609375,\n",
       "   0.08349609375,\n",
       "   0.061767578125,\n",
       "   0.07373046875,\n",
       "   0.07373046875,\n",
       "   0.078125,\n",
       "   0.0302734375,\n",
       "   0.02978515625,\n",
       "   0.03369140625,\n",
       "   0.0172119140625,\n",
       "   0.010986328125,\n",
       "   0.01806640625,\n",
       "   0.0255126953125,\n",
       "   0.0279541015625,\n",
       "   0.037353515625,\n",
       "   0.0250244140625,\n",
       "   0.00927734375]]}"
      ]
     },
     "execution_count": 11,
     "metadata": {},
     "output_type": "execute_result"
    }
   ],
   "source": [
    "gt[10]"
   ]
  },
  {
   "cell_type": "code",
   "execution_count": 12,
   "metadata": {},
   "outputs": [
    {
     "data": {
      "text/plain": [
       "Dataset({\n",
       "    features: ['problem', 'solution', 'answer', 'subject', 'level', 'unique_id', 'is_correct_pg_states', 'preds', 'is_correct', 'trajectories', 'rewards', 'all_rewards'],\n",
       "    num_rows: 149\n",
       "})"
      ]
     },
     "execution_count": 12,
     "metadata": {},
     "output_type": "execute_result"
    }
   ],
   "source": [
    "gt"
   ]
  }
 ],
 "metadata": {
  "kernelspec": {
   "display_name": "PF",
   "language": "python",
   "name": "python3"
  },
  "language_info": {
   "codemirror_mode": {
    "name": "ipython",
    "version": 3
   },
   "file_extension": ".py",
   "mimetype": "text/x-python",
   "name": "python",
   "nbconvert_exporter": "python",
   "pygments_lexer": "ipython3",
   "version": "3.12.9"
  }
 },
 "nbformat": 4,
 "nbformat_minor": 2
}
