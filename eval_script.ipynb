{
 "cells": [
  {
   "cell_type": "code",
   "execution_count": 23,
   "metadata": {},
   "outputs": [],
   "source": [
    "from glob import glob\n",
    "\n",
    "from datasets import load_dataset\n",
    "from sal.utils.math import *\n",
    "from sal.utils.grader import *\n",
    "\n",
    "from sal.utils.qwen_math_parser import *\n",
    "from sal.utils.data import get_dataset, save_dataset\n",
    "from collections import defaultdict\n",
    "import json\n",
    "import numpy as np\n",
    "import pickle\n",
    "from sal.config import Config\n",
    "\n",
    "import os"
   ]
  },
  {
   "cell_type": "code",
   "execution_count": 24,
   "metadata": {},
   "outputs": [],
   "source": [
    "config = Config()\n",
    "config.datset_name = \"/ssdscratch/byuan48/particle_filtering/probabilistic-inference-scaling/datasets/math500.jsonl\"\n",
    "config.dataset_split = \"train\"\n",
    "gt = get_dataset(config)\n"
   ]
  },
  {
   "cell_type": "code",
   "execution_count": 25,
   "metadata": {},
   "outputs": [],
   "source": [
    "def is_correct(sample, key):\n",
    "    ans = memoized_canonical_form(sample['answer'])\n",
    "    pred = memoized_canonical_form(sample[f'pred_{key}']).strip(\"\\\\boxed{\").strip(\"}\")\n",
    "\n",
    "    sample['is_correct_' + key] = math_equal(ans, pred)\n",
    "    return sample\n",
    "\n",
    "\n",
    "def parse_responses(sample):\n",
    "    sample['parsed_responses'] = [strip_string(extract_answer(x, 'math')) for x in sample['completions']]\n",
    "    return sample\n",
    "\n",
    "\n",
    "def extract(string):\n",
    "    return strip_string(extract_answer(string, 'math'))"
   ]
  },
  {
   "cell_type": "code",
   "execution_count": 26,
   "metadata": {},
   "outputs": [
    {
     "name": "stdout",
     "output_type": "stream",
     "text": [
      "file:  /ssdscratch/byuan48/particle_filtering/probabilistic-inference-scaling/output/p2/test_intermediate_algebra_1994.pkl\n",
      "file:  /ssdscratch/byuan48/particle_filtering/probabilistic-inference-scaling/output/p2/test_algebra_1349.pkl\n",
      "file:  /ssdscratch/byuan48/particle_filtering/probabilistic-inference-scaling/output/p2/test_precalculus_807.pkl\n",
      "file:  /ssdscratch/byuan48/particle_filtering/probabilistic-inference-scaling/output/p2/test_number_theory_572.pkl\n",
      "file:  /ssdscratch/byuan48/particle_filtering/probabilistic-inference-scaling/output/p2/test_algebra_2584.pkl\n"
     ]
    }
   ],
   "source": [
    "files = glob('/ssdscratch/byuan48/particle_filtering/probabilistic-inference-scaling/output/p2/*.pkl')\n",
    "\n",
    "data = {}\n",
    "for file in files:\n",
    "    with open(file, 'rb') as f:\n",
    "        if file.split('/')[-1].startswith('batch'):\n",
    "                continue\n",
    "                \n",
    "        # if not os.path.exists('/shiv/search-and-learn/llama1b_jan11_mathShephard_vs_deepSeek_PRM_comparison/seed96/temp_1/p128/' + file.split('/')[-1]):\n",
    "        #         continue\n",
    "        print(\"file: \", file)\n",
    "        data[f\"{file.split('/')[-1].replace('.pkl', '.json')}\"] = pickle.load(f)"
   ]
  },
  {
   "cell_type": "code",
   "execution_count": 27,
   "metadata": {},
   "outputs": [
    {
     "name": "stderr",
     "output_type": "stream",
     "text": [
      "Filter: 100%|██████████| 500/500 [00:00<00:00, 59226.52 examples/s]\n"
     ]
    }
   ],
   "source": [
    "unique_ids = list(data.keys())\n",
    "gt = gt.map(lambda x: {'unique_id': x['unique_id'].replace('/', '_')})\n",
    "gt = gt.filter(lambda x: x['unique_id'] in unique_ids)"
   ]
  },
  {
   "cell_type": "code",
   "execution_count": 28,
   "metadata": {},
   "outputs": [
    {
     "data": {
      "text/plain": [
       "5"
      ]
     },
     "execution_count": 28,
     "metadata": {},
     "output_type": "execute_result"
    }
   ],
   "source": [
    "len(set(unique_ids))"
   ]
  },
  {
   "cell_type": "code",
   "execution_count": 29,
   "metadata": {},
   "outputs": [
    {
     "data": {
      "text/plain": [
       "Dataset({\n",
       "    features: ['problem', 'solution', 'answer', 'subject', 'level', 'unique_id'],\n",
       "    num_rows: 5\n",
       "})"
      ]
     },
     "execution_count": 29,
     "metadata": {},
     "output_type": "execute_result"
    }
   ],
   "source": [
    "gt"
   ]
  },
  {
   "cell_type": "code",
   "execution_count": 34,
   "metadata": {},
   "outputs": [],
   "source": [
    "def get_pg_response(sample, pg_data):\n",
    "    pg_sample = pg_data[sample['unique_id']]\n",
    "    # Track accuracy at each state\n",
    "    state_accuracies = []\n",
    "    state_answers = []\n",
    "    assert len(pg_sample) == 1 \n",
    "    for state in pg_sample:\n",
    "        rewards = [x.rewards[-1] for x in state]\n",
    "        tokens_num = np.array([sum(x.tokens_num) for x in state]).sum()\n",
    "        best_particle = state[np.argmax(rewards)]\n",
    "\n",
    "\n",
    "        # logits = [inverse_sigmoid(r) for r in rewards]\n",
    "        # logits = np.array(logits)\n",
    "        # weights = softmax(logits/.5)\n",
    "        # best_particle = np.random.choice(state, p=weights)\n",
    "        trajectory = \"\\n\\n\".join(best_particle.trajectory)\n",
    "        answer = extract(trajectory)\n",
    "        is_correct = math_equal(memoized_canonical_form(sample['answer']), memoized_canonical_form(answer))\n",
    "        state_accuracies.append(is_correct)\n",
    "        state_answers.append(answer)\n",
    "    \n",
    "    # Still store the final prediction and accuracy\n",
    "    # last_state = pg_sample[-1]\n",
    "    # rewards = [x.rewards[-1] for x in last_state]\n",
    "    # best_particle = last_state[np.argmax(rewards)]\n",
    "    # trajectory = \"\\n\\n\".join(best_particle.trajectory)\n",
    "    # answer = extract(trajectory)\n",
    "    # sample['pred_pg'] = answer\n",
    "    sample['is_correct_pg_states'] = state_accuracies\n",
    "    sample['preds'] = state_answers\n",
    "    sample['tokens_num'] = tokens_num\n",
    "    sample['is_correct'] = any(state_accuracies)\n",
    "\n",
    "    return sample\n"
   ]
  },
  {
   "cell_type": "code",
   "execution_count": 35,
   "metadata": {},
   "outputs": [
    {
     "name": "stderr",
     "output_type": "stream",
     "text": [
      "Map: 100%|██████████| 5/5 [00:00<00:00, 240.94 examples/s]\n"
     ]
    }
   ],
   "source": [
    "gt = gt.map(get_pg_response, fn_kwargs={'pg_data': data})"
   ]
  },
  {
   "cell_type": "code",
   "execution_count": 40,
   "metadata": {},
   "outputs": [
    {
     "name": "stdout",
     "output_type": "stream",
     "text": [
      "State 0: 0.600 accuracy (3 correct)\n",
      "State 0: 968.400 tokens\n"
     ]
    }
   ],
   "source": [
    "#num_states_to_test = 2  # Based on seeing 7 states in the data from context\n",
    "for i in range(len(gt[0]['is_correct_pg_states'])):\n",
    "    correct_at_state = [d['is_correct_pg_states'][i] for d in gt]\n",
    "    tokens_num = [d['tokens_num'] for d in gt]\n",
    "    print(f\"State {i}: {np.mean(correct_at_state):.3f} accuracy ({sum(correct_at_state)} correct)\")\n",
    "    print(f\"State {i}: {np.mean(tokens_num):.3f} tokens\") # Represents the number of tokens in tokens_num\n",
    "\n",
    "tokens_num"
   ]
  },
  {
   "cell_type": "code",
   "execution_count": 41,
   "metadata": {},
   "outputs": [
    {
     "data": {
      "text/plain": [
       "[684, 2506, 737, 303, 612]"
      ]
     },
     "execution_count": 41,
     "metadata": {},
     "output_type": "execute_result"
    }
   ],
   "source": []
  }
 ],
 "metadata": {
  "kernelspec": {
   "display_name": "PF",
   "language": "python",
   "name": "python3"
  },
  "language_info": {
   "codemirror_mode": {
    "name": "ipython",
    "version": 3
   },
   "file_extension": ".py",
   "mimetype": "text/x-python",
   "name": "python",
   "nbconvert_exporter": "python",
   "pygments_lexer": "ipython3",
   "version": "3.12.9"
  }
 },
 "nbformat": 4,
 "nbformat_minor": 2
}
